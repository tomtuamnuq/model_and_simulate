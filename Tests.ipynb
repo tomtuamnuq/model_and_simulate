{
 "metadata": {
  "language_info": {
   "codemirror_mode": {
    "name": "ipython",
    "version": 3
   },
   "file_extension": ".py",
   "mimetype": "text/x-python",
   "name": "python",
   "nbconvert_exporter": "python",
   "pygments_lexer": "ipython3",
   "version": "3.9.5"
  },
  "orig_nbformat": 2,
  "kernelspec": {
   "name": "python395jvsc74a57bd0ecc6f6bfbcad527cc0bf6523e8dd2a348c809b3e63c99b0e946184bb78a8c43e",
   "display_name": "Python 3.9.5 64-bit ('Model_and_Sim': conda)"
  },
  "metadata": {
   "interpreter": {
    "hash": "ecc6f6bfbcad527cc0bf6523e8dd2a348c809b3e63c99b0e946184bb78a8c43e"
   }
  }
 },
 "nbformat": 4,
 "nbformat_minor": 2,
 "cells": [
  {
   "cell_type": "code",
   "execution_count": 1,
   "metadata": {},
   "outputs": [
    {
     "output_type": "stream",
     "name": "stdout",
     "text": [
      "pygame 2.0.1 (SDL 2.0.14, Python 3.9.5)\nHello from the pygame community. https://www.pygame.org/contribute.html\n"
     ]
    }
   ],
   "source": [
    "import numpy as np \n",
    "from src.molecular_dynamics.simulation import Simulation\n",
    "from src.molecular_dynamics.field import Field\n",
    "from src.molecular_dynamics.main import main"
   ]
  },
  {
   "cell_type": "code",
   "execution_count": 2,
   "metadata": {},
   "outputs": [],
   "source": [
    "num_molecules = 300\n",
    "molecules = list(range(num_molecules))\n",
    "# molecules"
   ]
  },
  {
   "cell_type": "code",
   "execution_count": 3,
   "metadata": {},
   "outputs": [],
   "source": [
    "cell_size = 1\n",
    "num_rows = 10\n",
    "num_columns = 10\n",
    "cells = Field.init_cells(num_rows, num_columns)\n",
    "# cells"
   ]
  },
  {
   "cell_type": "code",
   "execution_count": 4,
   "metadata": {},
   "outputs": [
    {
     "output_type": "execute_result",
     "data": {
      "text/plain": [
       "[[[], [], [], [], [], [], [], [], [], [], [], []],\n",
       " [[], [], [], [], [], [], [], [], [], [], [], []],\n",
       " [[], [], [], [], [], [], [], [], [], [], [], []],\n",
       " [[], [], [], [], [], [], [], [], [], [], [], []],\n",
       " [[], [], [], [], [], [], [], [], [], [], [], []],\n",
       " [[], [], [], [], [], [], [], [], [], [], [], []],\n",
       " [[], [], [], [], [], [], [], [], [], [], [], []],\n",
       " [[], [], [], [], [], [], [], [], [], [], [], []],\n",
       " [[], [], [], [], [], [], [], [], [], [], [], []],\n",
       " [[], [], [], [], [], [], [], [], [], [], [], []],\n",
       " [[], [], [], [], [], [], [], [], [], [], [], []],\n",
       " [[], [], [], [], [], [], [], [], [], [], [], []]]"
      ]
     },
     "metadata": {},
     "execution_count": 4
    }
   ],
   "source": [
    "field = Field(num_rows, num_columns,cell_size)\n",
    "# field.clear_cells()\n",
    "field._cells"
   ]
  },
  {
   "cell_type": "code",
   "execution_count": 5,
   "metadata": {},
   "outputs": [],
   "source": [
    "# other_cells, displacements = field.get_relevant_cells(2,3)"
   ]
  },
  {
   "cell_type": "code",
   "execution_count": 6,
   "metadata": {},
   "outputs": [],
   "source": [
    "field.clear_cells()\n",
    "maxX = num_columns * cell_size\n",
    "maxY = num_rows * cell_size\n",
    "positions = np.asarray([[i*cell_size - 0.5,i*cell_size + 0.5] for  i in range(-1,num_columns+2)])\n",
    "# print(positions)\n",
    "field.place_into_cells(positions)\n",
    "# field._cells"
   ]
  },
  {
   "cell_type": "code",
   "execution_count": 7,
   "metadata": {},
   "outputs": [],
   "source": [
    "positions = np.asarray([[0,0] for  i in range(0,3)])\n",
    "velocities = np.asarray([[i,0] for  i in range(0,3)])\n",
    "accelerations = np.asarray([[0,i] for  i in range(0,3)])\n",
    "h = 0.1\n",
    "# print(positions)\n",
    "positions = positions + h * velocities + h**2 /2 * accelerations\n",
    "# positions"
   ]
  },
  {
   "cell_type": "code",
   "execution_count": 8,
   "metadata": {},
   "outputs": [],
   "source": [
    "accelerations = np.zeros_like(positions)\n",
    "# accelerations"
   ]
  },
  {
   "cell_type": "code",
   "execution_count": 9,
   "metadata": {},
   "outputs": [
    {
     "output_type": "execute_result",
     "data": {
      "text/plain": [
       "array([[39.06799067, 22.89652138],\n",
       "       [15.2078294 , 19.64074629],\n",
       "       [36.92984935, 28.78755441],\n",
       "       [10.46769695, 18.55145643],\n",
       "       [12.76388234, 34.04453847],\n",
       "       [ 4.72364932, 31.53330685],\n",
       "       [ 9.67065173, 21.64189025],\n",
       "       [12.74135715, 37.85141226],\n",
       "       [38.56316981, 25.85544021],\n",
       "       [10.54599217, 16.85616433]])"
      ]
     },
     "metadata": {},
     "execution_count": 9
    }
   ],
   "source": [
    "distribution = \"uniform\"\n",
    "sigma = 1\n",
    "simulation = Simulation(num_molecules, num_rows, num_columns, sigma,distribution)\n",
    "simulation._positions[:10]"
   ]
  },
  {
   "cell_type": "code",
   "execution_count": 10,
   "metadata": {
    "tags": []
   },
   "outputs": [
    {
     "output_type": "stream",
     "name": "stdout",
     "text": [
      "Time: 12.318206327001462 s for steps=100\n"
     ]
    },
    {
     "output_type": "execute_result",
     "data": {
      "text/plain": [
       "array([[38.97372917, 22.93946977],\n",
       "       [15.21690281, 19.63166813],\n",
       "       [36.9417962 , 28.7887905 ],\n",
       "       [10.46417103, 18.56652288],\n",
       "       [12.75630272, 34.0533192 ],\n",
       "       [ 4.73418791, 31.53244799],\n",
       "       [ 9.61037068, 21.80754858],\n",
       "       [12.95012149, 37.8588198 ],\n",
       "       [38.55794572, 25.858149  ],\n",
       "       [10.51501989, 16.7319197 ]])"
      ]
     },
     "metadata": {},
     "execution_count": 10
    }
   ],
   "source": [
    "import time\n",
    "start = time.perf_counter()\n",
    "steps = 100\n",
    "for x in range(steps): \n",
    "    simulation.do_step()\n",
    "print(f\"Time: {time.perf_counter() -start} s for {steps=}\")\n",
    "simulation._positions[:10]"
   ]
  },
  {
   "cell_type": "code",
   "execution_count": 11,
   "metadata": {},
   "outputs": [
    {
     "output_type": "stream",
     "name": "stdout",
     "text": [
      "40 40\n"
     ]
    }
   ],
   "source": [
    "print(simulation._field.height, simulation._field.width)"
   ]
  },
  {
   "cell_type": "code",
   "execution_count": 2,
   "metadata": {},
   "outputs": [],
   "source": [
    "main()"
   ]
  },
  {
   "cell_type": "code",
   "execution_count": null,
   "metadata": {},
   "outputs": [],
   "source": []
  }
 ]
}